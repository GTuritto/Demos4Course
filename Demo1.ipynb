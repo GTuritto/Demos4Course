{
  "cells": [
    {
      "cell_type": "markdown",
      "metadata": {
        "id": "view-in-github",
        "colab_type": "text"
      },
      "source": [
        "<a href=\"https://colab.research.google.com/github/GTuritto/Demos4Course/blob/main/Demo1.ipynb\" target=\"_parent\"><img src=\"https://colab.research.google.com/assets/colab-badge.svg\" alt=\"Open In Colab\"/></a>"
      ]
    },
    {
      "cell_type": "markdown",
      "source": [],
      "metadata": {
        "id": "PUSLjqFNK9y-"
      }
    },
    {
      "cell_type": "code",
      "source": [
        "!pip install pyautogen matplotlib yfinance mistralai openai"
      ],
      "metadata": {
        "id": "EbkGXBCEGBR-",
        "collapsed": true
      },
      "execution_count": null,
      "outputs": []
    },
    {
      "cell_type": "code",
      "source": [
        "from IPython.display import Image, display\n",
        "from google.colab import userdata\n",
        "\n",
        "import autogen\n",
        "from autogen.coding import LocalCommandLineCodeExecutor"
      ],
      "metadata": {
        "id": "V5jzMIQFKXoB"
      },
      "execution_count": null,
      "outputs": []
    },
    {
      "cell_type": "markdown",
      "source": [
        "## Configuramos la conexion al API del LLM"
      ],
      "metadata": {
        "id": "_CGXHsV5KbDh"
      }
    },
    {
      "cell_type": "code",
      "execution_count": null,
      "metadata": {
        "id": "Z3yGP_OiEvHQ",
        "collapsed": true
      },
      "outputs": [],
      "source": [
        "# API Configuracion para OpenAI\n",
        "# apiConfig = [{\n",
        "#        \"model\": \"gpt-4o-mini\",\n",
        "#        \"max_tokens\": 500,\n",
        "#        \"api_key\": userdata.get('OPENAI_API_KEY')\n",
        "#    }]\n",
        "\n",
        "\n",
        "# API Configuracion para Mistral -- Preferimos usar esta ya que no hay que pagar y es tan buena como la de OpenAI\n",
        "api_config = [{\n",
        "        \"model\": \"mistral-large-latest\",\n",
        "        \"max_tokens\": 1000,\n",
        "        \"api_key\": userdata.get('MISTRAL_API_KEY'),\n",
        "        \"api_type\": \"mistral\"\n",
        "    }]"
      ]
    },
    {
      "cell_type": "markdown",
      "source": [
        "## Creemos el Assitente que hara el trabajo"
      ],
      "metadata": {
        "id": "Tgk4Uf7KcqVj"
      }
    },
    {
      "cell_type": "code",
      "execution_count": null,
      "metadata": {
        "id": "V0tCFQuaEvHS"
      },
      "outputs": [],
      "source": [
        "# crea el AssistantAgent named \"Asistente\"\n",
        "asistente = autogen.AssistantAgent(\n",
        "    name=\"Asistente\",\n",
        "    llm_config={\n",
        "        \"cache_seed\": 41,  # semilla del caching\n",
        "        \"config_list\": api_config,  # configuracion para la API a ser usada\n",
        "        \"temperature\": 0,  # temperature para sampling\n",
        "    },\n",
        ")"
      ]
    },
    {
      "cell_type": "code",
      "source": [
        "# crea el agente que actuara como Proxy del Usuario\n",
        "proxy_usuario = autogen.UserProxyAgent(\n",
        "    name=\"Usuario - Proxy\",\n",
        "    human_input_mode=\"NEVER\",  # no solicita feedback al usuario hay tres alternativas \"ALWAYS\", \"TERMINATE\", \"NEVER\"\n",
        "    max_consecutive_auto_reply=10,\n",
        "    is_termination_msg=lambda x: x.get(\"contenido\", \"\").rstrip().endswith(\"TERMINATE\"),\n",
        "    code_execution_config={\n",
        "        \"executor\": LocalCommandLineCodeExecutor(work_dir=\"contenido\"),   # como y donde ejecutamos el codigo generado\n",
        "    },\n",
        ")"
      ],
      "metadata": {
        "id": "cgEhbeYIMnuW"
      },
      "execution_count": null,
      "outputs": []
    },
    {
      "cell_type": "markdown",
      "source": [
        "### Generando graficos de datos"
      ],
      "metadata": {
        "id": "bCvNRGVSezaU"
      }
    },
    {
      "cell_type": "code",
      "source": [
        "proxy_usuario.initiate_chat(\n",
        "    recipient=asistente,\n",
        "    message=\"\"\"Plot the YTD Bitcoin prices in Euros and volume of transactions Bitcoin_YTD.png.\"\"\",\n",
        ")"
      ],
      "metadata": {
        "id": "EMEZmbUed_r0",
        "collapsed": true
      },
      "execution_count": null,
      "outputs": []
    },
    {
      "cell_type": "code",
      "source": [
        "try:\n",
        "    image = Image(filename=\"contenido/Bitcoin_YTD.png\")\n",
        "    display(image)\n",
        "except FileNotFoundError:\n",
        "    print(\"Image no encontrada.\")"
      ],
      "metadata": {
        "id": "3A3eiidmeXU2"
      },
      "execution_count": null,
      "outputs": []
    },
    {
      "cell_type": "markdown",
      "source": [
        "\n",
        "\n",
        "---\n",
        "\n"
      ],
      "metadata": {
        "id": "oq1WNqxXDzaJ"
      }
    }
  ],
  "metadata": {
    "front_matter": {
      "description": "Use conversable language learning model agents to solve tasks and provide automatic feedback through a comprehensive example of writing, executing, and debugging Python code to compare stock price changes.",
      "tags": [
        "code generation",
        "debugging"
      ]
    },
    "kernelspec": {
      "display_name": "Python 3",
      "language": "python",
      "name": "python3"
    },
    "language_info": {
      "codemirror_mode": {
        "name": "ipython",
        "version": 3
      },
      "file_extension": ".py",
      "mimetype": "text/x-python",
      "name": "python",
      "nbconvert_exporter": "python",
      "pygments_lexer": "ipython3",
      "version": "3.10.14"
    },
    "vscode": {
      "interpreter": {
        "hash": "949777d72b0d2535278d3dc13498b2535136f6dfe0678499012e853ee9abcab1"
      }
    },
    "colab": {
      "provenance": [],
      "include_colab_link": true
    }
  },
  "nbformat": 4,
  "nbformat_minor": 0
}